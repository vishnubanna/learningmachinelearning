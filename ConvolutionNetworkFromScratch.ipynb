{
  "nbformat": 4,
  "nbformat_minor": 0,
  "metadata": {
    "colab": {
      "name": "ConvolutionNetworkFromScratch.ipynb",
      "version": "0.3.2",
      "provenance": [],
      "collapsed_sections": [],
      "include_colab_link": true
    },
    "kernelspec": {
      "name": "python3",
      "display_name": "Python 3"
    }
  },
  "cells": [
    {
      "cell_type": "markdown",
      "metadata": {
        "id": "view-in-github",
        "colab_type": "text"
      },
      "source": [
        "<a href=\"https://colab.research.google.com/github/vishnubanna/learningmachinelearning/blob/master/ConvolutionNetworkFromScratch.ipynb\" target=\"_parent\"><img src=\"https://colab.research.google.com/assets/colab-badge.svg\" alt=\"Open In Colab\"/></a>"
      ]
    },
    {
      "cell_type": "code",
      "metadata": {
        "id": "Ans0p_Q3pTIJ",
        "colab_type": "code",
        "colab": {}
      },
      "source": [
        "## fix for many layers\n",
        "import numpy as np\n",
        "import pandas as pd\n",
        "from math import floor\n",
        "\n",
        "def sigmoid(x):\n",
        "    return 1/(1 + np.exp(x))\n",
        "\n",
        "class Convolution():\n",
        "    def __init__(self, neurons, filter_shape, stride, neurons_prev = 1, max_pool = True):\n",
        "        # each neuron is one filter\n",
        "        if neurons_prev:\n",
        "            self.filter_shape = (neurons_prev, filter_shape, filter_shape)\n",
        "        else:\n",
        "            self.filter_shape = (filter_shape, filter_shape)\n",
        "        self.prev = neurons_prev\n",
        "        self.stride = stride\n",
        "        self.neurons = neurons\n",
        "        self.bias = []\n",
        "        self.filters = []\n",
        "        self.max_pool = max_pool\n",
        "        #self.out_shape = floor((input.shape[0] - self.filter_shape[0])/self.stride) + 1\n",
        "        #self.input = input\n",
        "        for i in range(self.neurons):\n",
        "            temp = np.random.normal(loc = 0.0, scale = 1.0, size = self.filter_shape)\n",
        "            self.filters.append(temp)\n",
        "            bias = np.zeros(1)\n",
        "            self.bias.append(bias)\n",
        "        pass\n",
        "    \n",
        "    def __call__(self, input):\n",
        "        self.input = input\n",
        "        self.shape = input.shape \n",
        "        self.out_shape = floor((input.shape[1] - self.filter_shape[1])/self.stride) + 1\n",
        "        self.outputs = [] #np.empty((self.neurons, self.out_shape, self.out_shape), dtype=float)\n",
        "        #self.out_shape = floor((input.shape[0] - self.filter_shape[0])/self.stride) + 1\n",
        "        #temp_shape = floor((self.input.shape[0] - self.filter_shape[0])/self.stride) + 1\n",
        "        for i, filter in enumerate(self.filters):\n",
        "            filter = np.rot90(filter, k = 2)\n",
        "            output = np.empty((self.out_shape, self.out_shape), dtype=float)\n",
        "            for y in range(0, output.shape[1], self.stride):\n",
        "                for x in range(0, output.shape[0], self.stride):\n",
        "                    wx = np.multiply(filter, self.input[:, x:(x + filter.shape[1]), y:(y + filter.shape[1])])\n",
        "                    wx = np.sum(wx)\n",
        "                    output[x, y] = wx + np.sum(self.bias)\n",
        "            #output = abs(output * (output > 0))\n",
        "            output = sigmoid(output)\n",
        "            self.outputs.append(output)\n",
        "            #self.outputs[i] = output\n",
        "        #self.outputs = np.array(self.outputs)\n",
        "        if not self.max_pool: \n",
        "            self.outputs = np.array(self.outputs)\n",
        "        #self.outputs = abs(self.outputs * (self.outputs > 0))\n",
        "        pass\n",
        "    \n",
        "    def train(self, error):\n",
        "        pass\n",
        "    \n",
        "class maxPool2d():\n",
        "    def __init__(self, filter_shape, stride):\n",
        "        self.filter_shape = (filter_shape, filter_shape)\n",
        "        self.stride = stride\n",
        "        pass\n",
        "\n",
        "    def __call__(self, input):\n",
        "        self.input = input\n",
        "        self.shape = input[1].shape\n",
        "        self.out_shape = floor((self.shape[1] - self.filter_shape[1])/self.stride) + 1\n",
        "        self.outputs = []\n",
        "        for value in self.input:\n",
        "            output = np.empty((self.out_shape, self.out_shape), dtype=float)\n",
        "            for y in range(0, output.shape[1], self.stride):\n",
        "                for x in range(0, output.shape[0], self.stride):\n",
        "                    output[x, y] = np.max(value[x:(x + self.filter_shape[0]), y:(y + self.filter_shape[0])])\n",
        "            self.outputs.append(output)\n",
        "        self.outputs = np.array(self.outputs)\n",
        "        pass\n",
        "    \n",
        "    def train(self):\n",
        "        \n",
        "        pass\n",
        "    "
      ],
      "execution_count": 0,
      "outputs": []
    },
    {
      "cell_type": "code",
      "metadata": {
        "id": "fA7crIXrV4Hw",
        "colab_type": "code",
        "outputId": "69075e78-9728-454b-9128-91de3e706fa1",
        "colab": {
          "base_uri": "https://localhost:8080/",
          "height": 221
        }
      },
      "source": [
        "max = 100\n",
        "i = np.random.randint(1, max, size = (1,7,7))/max\n",
        "print(i)\n",
        "c1 = Convolution(2, 3, 1, neurons_prev = 1, max_pool = False)\n",
        "print(c1.filters)"
      ],
      "execution_count": 0,
      "outputs": [
        {
          "output_type": "stream",
          "text": [
            "[[[0.06 0.85 0.9  0.12 0.51 0.6  0.81]\n",
            "  [0.2  0.77 0.9  0.4  0.2  0.9  0.77]\n",
            "  [0.17 0.24 0.82 0.91 0.66 0.87 0.71]\n",
            "  [0.81 0.75 0.86 0.41 0.95 0.76 0.05]\n",
            "  [0.87 0.01 0.1  0.91 0.55 0.97 0.51]\n",
            "  [0.57 0.82 0.25 0.64 0.97 0.19 0.06]\n",
            "  [0.31 0.44 0.25 0.59 0.09 0.5  0.44]]]\n",
            "[array([[[-0.35132486,  2.13902176, -0.89268566],\n",
            "        [-0.19256944,  1.02264596, -0.15015221],\n",
            "        [-1.53889908,  0.88360707, -0.90105441]]]), array([[[-0.91802756,  1.49071956,  1.31245774],\n",
            "        [ 1.87189158,  0.02671503, -0.26517528],\n",
            "        [ 0.42973204,  1.6438303 ,  0.3587686 ]]])]\n"
          ],
          "name": "stdout"
        }
      ]
    },
    {
      "cell_type": "code",
      "metadata": {
        "id": "f6MRpCRlYLQs",
        "colab_type": "code",
        "outputId": "0f27c970-ea35-4d02-eadf-4380fd4aa0c6",
        "colab": {
          "base_uri": "https://localhost:8080/",
          "height": 204
        }
      },
      "source": [
        "c1(i)\n",
        "print(c1.outputs)"
      ],
      "execution_count": 0,
      "outputs": [
        {
          "output_type": "stream",
          "text": [
            "[[[0.45432584 0.27919996 0.61385546 0.49172183 0.31496905]\n",
            "  [0.44937269 0.24681891 0.69240108 0.4185144  0.15486843]\n",
            "  [0.66375441 0.59705435 0.38250718 0.69674365 0.24482031]\n",
            "  [0.54994851 0.75485095 0.63949459 0.19067362 0.5034804 ]\n",
            "  [0.52990353 0.70927029 0.15327193 0.80366441 0.45145892]]\n",
            "\n",
            " [[0.03991974 0.0043057  0.02024612 0.05161577 0.03512201]\n",
            "  [0.03609189 0.03504985 0.02741634 0.01272775 0.03774214]\n",
            "  [0.19506155 0.01177472 0.0043185  0.02565545 0.00465912]\n",
            "  [0.01078217 0.1068776  0.03083868 0.01015869 0.11232523]\n",
            "  [0.10449812 0.06848642 0.06110151 0.04455441 0.00631207]]]\n"
          ],
          "name": "stdout"
        }
      ]
    },
    {
      "cell_type": "code",
      "metadata": {
        "id": "LXoUnTJ6YzJl",
        "colab_type": "code",
        "colab": {}
      },
      "source": [
        "# print(c1.filters[0], '\\n',i[:, 0:3, 0:3])\n",
        "# tmp = np.rot90(c1.filters[0], 2)\n",
        "# print(np.multiply(tmp , i[:, 0:3, 0:3]))\n",
        "\n",
        "# print(sigmoid(np.sum(np.multiply(tmp , i[:, 0:3, 0:3]))))"
      ],
      "execution_count": 0,
      "outputs": []
    },
    {
      "cell_type": "code",
      "metadata": {
        "id": "9P-YjjiVerN1",
        "colab_type": "code",
        "colab": {}
      },
      "source": [
        "# c = maxPool2d(2, 1)\n",
        "# c(c1.outputs)\n",
        "# print(c.outputs)"
      ],
      "execution_count": 0,
      "outputs": []
    },
    {
      "cell_type": "code",
      "metadata": {
        "id": "FIMwYhHJid72",
        "colab_type": "code",
        "colab": {}
      },
      "source": [
        "c2 = Convolution(3, 3 , 1, neurons_prev = 2, max_pool = False)"
      ],
      "execution_count": 0,
      "outputs": []
    },
    {
      "cell_type": "code",
      "metadata": {
        "id": "_3rJZMkAPKNw",
        "colab_type": "code",
        "outputId": "a54338d2-dd32-4b17-db73-07ef7e3ff046",
        "colab": {
          "base_uri": "https://localhost:8080/",
          "height": 34
        }
      },
      "source": [
        "# print(c.outputs.shape)\n",
        "# c2(c.outputs)\n",
        "\n",
        "print(c1.outputs.shape)\n",
        "c2(c1.outputs)\n"
      ],
      "execution_count": 0,
      "outputs": [
        {
          "output_type": "stream",
          "text": [
            "(2, 5, 5)\n"
          ],
          "name": "stdout"
        }
      ]
    },
    {
      "cell_type": "code",
      "metadata": {
        "id": "6WLy6pxePgHJ",
        "colab_type": "code",
        "outputId": "102b720c-9be4-4a90-939a-09b0c828862e",
        "colab": {
          "base_uri": "https://localhost:8080/",
          "height": 255
        }
      },
      "source": [
        "print(c2.filters[0])\n",
        "print(c1.outputs[:, 0:3, 0:3])\n",
        "# print(np.multiply(c2.filters[0] , c.outputs[:, 0:3, 0:3]))\n",
        "# print(np.sum(np.multiply(c2.filters[0] , c.outputs[:, 0:3, 0:3])))\n"
      ],
      "execution_count": 0,
      "outputs": [
        {
          "output_type": "stream",
          "text": [
            "[[[ 1.18120574 -0.86366991 -0.45900436]\n",
            "  [-1.83896993  1.26521156  0.34846701]\n",
            "  [-1.20228339 -0.94003688 -0.32117202]]\n",
            "\n",
            " [[ 0.7411569   1.9925884  -0.89160102]\n",
            "  [ 0.36395747 -1.84030783 -0.41521077]\n",
            "  [-1.49931085 -0.29336238 -0.33102185]]]\n",
            "[[[0.45432584 0.27919996 0.61385546]\n",
            "  [0.44937269 0.24681891 0.69240108]\n",
            "  [0.66375441 0.59705435 0.38250718]]\n",
            "\n",
            " [[0.03991974 0.0043057  0.02024612]\n",
            "  [0.03609189 0.03504985 0.02741634]\n",
            "  [0.19506155 0.01177472 0.0043185 ]]]\n"
          ],
          "name": "stdout"
        }
      ]
    },
    {
      "cell_type": "code",
      "metadata": {
        "id": "bXGMZhYCPUE9",
        "colab_type": "code",
        "outputId": "fb109206-9677-4d1d-abba-cae9b7d7b079",
        "colab": {
          "base_uri": "https://localhost:8080/",
          "height": 34
        }
      },
      "source": [
        "# print(c(c2.outputs))\n",
        "print(c2.outputs.shape)"
      ],
      "execution_count": 0,
      "outputs": [
        {
          "output_type": "stream",
          "text": [
            "(3, 3, 3)\n"
          ],
          "name": "stdout"
        }
      ]
    },
    {
      "cell_type": "code",
      "metadata": {
        "id": "qZdkAL4CoAXt",
        "colab_type": "code",
        "outputId": "6f70dfde-86d4-42ff-c351-b43eb55a0ca0",
        "colab": {
          "base_uri": "https://localhost:8080/",
          "height": 204
        }
      },
      "source": [
        "# i2 = np.random.randint(1, 5, size = (3,2))\n",
        "# print(i2)\n",
        "i2 = c2.outputs\n",
        "print(i2)\n"
      ],
      "execution_count": 0,
      "outputs": [
        {
          "output_type": "stream",
          "text": [
            "[[[0.51415124 0.83255929 0.60404059]\n",
            "  [0.76332826 0.45220607 0.89154683]\n",
            "  [0.76254777 0.90700077 0.46964065]]\n",
            "\n",
            " [[0.84804601 0.88373052 0.9074311 ]\n",
            "  [0.90518459 0.91295077 0.90610057]\n",
            "  [0.94986926 0.88536551 0.82736918]]\n",
            "\n",
            " [[0.06382493 0.262414   0.16661213]\n",
            "  [0.09915829 0.16752446 0.26349618]\n",
            "  [0.13573925 0.1366564  0.20988322]]]\n"
          ],
          "name": "stdout"
        }
      ]
    },
    {
      "cell_type": "code",
      "metadata": {
        "id": "UI4E1FjNfLiN",
        "colab_type": "code",
        "colab": {}
      },
      "source": [
        "# #i2 = np.reshape(i2, i2.size)\n",
        "# #i2 = i2.flatten()\n",
        "# i3 = np.random.randint(1, 5, size = (3,i2.size))\n",
        "\n",
        "# print(i2, '\\n\\n', i3)\n",
        "\n",
        "# print(np.dot(i3, i2.T))"
      ],
      "execution_count": 0,
      "outputs": []
    },
    {
      "cell_type": "code",
      "metadata": {
        "id": "hUw69UEuvM-Q",
        "colab_type": "code",
        "colab": {}
      },
      "source": [
        "#MLP\n",
        "class Dense():\n",
        "    def __init__(self, neurons, input_shape):\n",
        "        self.input_shape = input_shape\n",
        "        self.neurons = neurons\n",
        "        self.weights = np.random.randint(-5, 5, size = (self.neurons, self.input_shape))\n",
        "        pass\n",
        "    \n",
        "    def __call__(self, input):\n",
        "        input = np.reshape(input, input.size)\n",
        "        self.activate = np.dot(self.weights, input.T)\n",
        "        pass\n",
        "        \n",
        "    def activation(self):\n",
        "        self.activate = self.activate/np.max(self.activate)\n",
        "        #self.outputs = abs(self.activate * (self.activate > 0))\n",
        "        \n",
        "        self.outputs = sigmoid(self.activate)\n",
        "\n",
        "        pass\n",
        "    \n",
        "    def train(self, error):\n",
        "        pass\n",
        "    \n",
        "\n",
        "\n",
        "class Softmax():\n",
        "    def __init__(self, input):\n",
        "        #input = input/np.max(input)\n",
        "        self.outputs = np.exp(input)/(np.sum(np.exp(input)))\n",
        "        #self.outputs = np.nan_to_num(self.outputs)\n",
        "    def __call__(self):\n",
        "        return self.outputs\n",
        "        "
      ],
      "execution_count": 0,
      "outputs": []
    },
    {
      "cell_type": "code",
      "metadata": {
        "id": "RhqSsiRb9cji",
        "colab_type": "code",
        "colab": {}
      },
      "source": [
        "# work on training"
      ],
      "execution_count": 0,
      "outputs": []
    },
    {
      "cell_type": "code",
      "metadata": {
        "id": "SqjuhtY7xxqL",
        "colab_type": "code",
        "outputId": "43174121-064b-498c-a17a-cf09a8a41d16",
        "colab": {
          "base_uri": "https://localhost:8080/",
          "height": 119
        }
      },
      "source": [
        "#i2 = np.reshape(i2, i2.size)\n",
        "i2 = i2.flatten()\n",
        "d1 = Dense(15, i2.size)\n",
        "d1(i2)\n",
        "d1.activation()\n",
        "print(d1.outputs)\n",
        "d2 = Dense(3, d1.outputs.size)\n",
        "d2(d1.outputs)\n",
        "d2.activation()\n",
        "print(d2.outputs)\n",
        "\n",
        "o = Softmax(d2.outputs)\n",
        "\n",
        "print(o())\n",
        "print(np.argmax(o()))\n",
        "#print(np.exp(d1.outputs.T[0])/(np.sum(np.exp(d1.outputs.T[0]))))"
      ],
      "execution_count": 0,
      "outputs": [
        {
          "output_type": "stream",
          "text": [
            "[0.62056411 0.79706226 0.26894142 0.73465172 0.6832854  0.27336999\n",
            " 0.34868854 0.40965159 0.52344526 0.63792473 0.79491514 0.48136742\n",
            " 0.34047624 0.29587011 0.71883743]\n",
            "[2.45967602e-57 2.68941421e-01 4.30947194e-15]\n",
            "[0.30224461 0.39551079 0.30224461]\n",
            "1\n"
          ],
          "name": "stdout"
        }
      ]
    },
    {
      "cell_type": "code",
      "metadata": {
        "id": "IBrpmfAeLsEL",
        "colab_type": "code",
        "colab": {}
      },
      "source": [
        "import numpy as np\n",
        "import pandas as pd\n",
        "from math import floor\n",
        "\n",
        "class Dense():\n",
        "    def __init__(self, neurons, input_shape, final = False):\n",
        "        self.input_shape = input_shape\n",
        "        self.neurons = neurons\n",
        "        self.final = final\n",
        "        #self.weights = np.random.randint(-5, 5, size = (self.neurons, self.input_shape))\n",
        "        self.weights = np.random.normal(0.0, pow(self.input_shape, -0.5) ,size = (self.neurons, self.input_shape))\n",
        "        pass\n",
        "\n",
        "    def __call__(self, input):\n",
        "        self.input = np.reshape(input, (input.size, 1))\n",
        "        #self.input = input.flatten()\n",
        "        self.input = self.input\n",
        "        self.activate = np.dot(self.weights, self.input)\n",
        "        pass\n",
        "\n",
        "    def activation(self):\n",
        "        #self.activate = self.activate/np.max(self.activate)\n",
        "        #self.outputs = abs(self.activate * (self.activate > 0))\n",
        "        if not self.final:\n",
        "            self.outputs = sigmoid(self.activate)\n",
        "        else:\n",
        "            self.outputs = self.activate\n",
        "        #print(self.outputs.shape)\n",
        "        pass\n",
        "\n",
        "    def train(self, error, lr):\n",
        "        error = np.reshape(error, (error.size, 1))\n",
        "        self.enext = np.dot(self.weights.T, error)\n",
        "        temp = error * self.outputs * (1 - self.outputs)\n",
        "        self.dweights = -lr * np.multiply((error * self.outputs * (1 - self.outputs)), self.input.T)\n",
        "        #print(self.dweights.T.shape, self.weights.shape)\n",
        "        #self.dweights = np.reshape(self.dweights, (self.neurons, self.input_shape))\n",
        "        #print(self.dweights, '\\n', self.weights)\n",
        "        self.weights = self.weights + self.dweights\n",
        "        #self.enext.reshape()\n",
        "        #print(self.enext)\n",
        "        return np.sum(self.enext, axis = 1)\n",
        "\n",
        "class Softmax():\n",
        "    def __init__(self, input):\n",
        "        #input = input/np.max(input)\n",
        "        self.outputs = np.exp(input)/(np.sum(np.exp(input)))\n",
        "        #self.outputs = np.nan_to_num(self.outputs)\n",
        "    def __call__(self):\n",
        "        return self.outputs"
      ],
      "execution_count": 0,
      "outputs": []
    },
    {
      "cell_type": "code",
      "metadata": {
        "id": "y61n5tGWNfNc",
        "colab_type": "code",
        "outputId": "1c209fb6-a283-492c-c973-db237001f025",
        "colab": {
          "base_uri": "https://localhost:8080/",
          "height": 204
        }
      },
      "source": [
        "max = 100\n",
        "size = 100\n",
        "tests = []\n",
        "targets =[]\n",
        "for i in range(size):\n",
        "    test = np.random.randint(1, max, size = (1,7,7))/max\n",
        "    tests.append(test)\n",
        "    #target = np.random.randint(0, 2, size = size)\n",
        "    target = np.random.randint(0, 2, size = 1)\n",
        "    #target = np.reshape(target, (target.size, 1)) \n",
        "    targets.append(target)\n",
        "    \n",
        "\n",
        "    \n",
        "#rect = test.flatten()\n",
        "print(rect.shape)\n",
        "target = np.random.randint(0, 2, size = size)\n",
        "print(tests[size - 1], targets[size - 1])\n",
        "l1 = Dense(100, test.size)\n",
        "l2 = Dense(50, l1.neurons)\n",
        "l3 = Dense(10, l2.neurons)\n",
        "f = Dense(1, l3.neurons)\n",
        "\n",
        "target = np.reshape(target, (target.size, 1)) \n",
        "\n",
        "for j in range(1000):\n",
        "    for i,test in enumerate(tests):\n",
        "        l1(test)\n",
        "        l1.activation()\n",
        "\n",
        "        l2(l1.outputs)\n",
        "        l2.activation()\n",
        "        \n",
        "        l3(l2.outputs)\n",
        "        l3.activation()\n",
        "\n",
        "\n",
        "        f(l3.outputs)\n",
        "        f.activation()\n",
        "        \n",
        "        test = -np.log(1 + (1/f.outputs))\n",
        "        tt = sigmoid(targets[i])\n",
        "\n",
        "        error = (targets[i] - f.outputs)\n",
        "        #error = (tt - f.outputs)\n",
        "        #error = (tt - f.outputs)\n",
        "        \n",
        "\n",
        "        #print(f.outputs,'\\n error:' ,err)\n",
        "\n",
        "        nerror = f.train(error, 0.1)\n",
        "        #nerror = np.reshape(nerror, (nerror.size, 1))\n",
        "        nerror = l3.train(nerror, 0.1)\n",
        "        nerror = l2.train(nerror, 0.1)\n",
        "        l1.train(nerror, 0.1)\n",
        "        \n",
        "print(f.outputs,'\\n errors:' , (error**2),'\\n error:', np.average(error)**2)"
      ],
      "execution_count": 0,
      "outputs": [
        {
          "output_type": "stream",
          "text": [
            "(49,)\n",
            "[[[0.64 0.68 0.32 0.86 0.97 0.95 0.81]\n",
            "  [0.34 0.88 0.35 0.01 0.1  0.58 0.1 ]\n",
            "  [0.82 0.22 0.32 0.75 0.3  0.08 0.91]\n",
            "  [0.75 0.06 0.36 0.55 0.12 0.03 0.13]\n",
            "  [0.72 0.34 0.12 0.7  0.05 0.54 0.22]\n",
            "  [0.75 0.21 0.59 0.14 0.79 0.17 0.79]\n",
            "  [0.4  0.74 0.54 0.23 0.6  0.53 0.23]]] [0]\n",
            "[[0.4372218]] \n",
            " errors: [[0.1911629]] \n",
            " error: 0.19116290102167527\n"
          ],
          "name": "stdout"
        }
      ]
    },
    {
      "cell_type": "code",
      "metadata": {
        "id": "YpkIXk7bMesd",
        "colab_type": "code",
        "colab": {}
      },
      "source": [
        "\n",
        "l1(test)\n",
        "l1.activation()\n",
        "\n",
        "l2(l1.outputs)\n",
        "l2.activation()\n",
        "\n",
        "\n",
        "f(l2.outputs)\n",
        "f.activation()\n",
        "\n",
        "error = (np.reshape(target, (target.size, 1)) - f.outputs)\n",
        "\n",
        "print(f.outputs,'\\n' ,error**2)\n",
        "\n",
        "nerror = f.train(error, 1)\n",
        "#nerror = np.reshape(nerror, (nerror.size, 1))\n",
        "nerror = l2.train(nerror, 0.1)\n",
        "l1.train(nerror, 1)"
      ],
      "execution_count": 0,
      "outputs": []
    }
  ]
}